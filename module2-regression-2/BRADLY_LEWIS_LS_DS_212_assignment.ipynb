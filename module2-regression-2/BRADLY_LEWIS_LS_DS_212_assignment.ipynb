{
  "nbformat": 4,
  "nbformat_minor": 0,
  "metadata": {
    "kernelspec": {
      "display_name": "Python 3",
      "language": "python",
      "name": "python3"
    },
    "language_info": {
      "codemirror_mode": {
        "name": "ipython",
        "version": 3
      },
      "file_extension": ".py",
      "mimetype": "text/x-python",
      "name": "python",
      "nbconvert_exporter": "python",
      "pygments_lexer": "ipython3",
      "version": "3.7.3"
    },
    "colab": {
      "name": "BRADLY_LEWIS_LS_DS_212_assignment.ipynb",
      "provenance": [],
      "collapsed_sections": [],
      "include_colab_link": true
    }
  },
  "cells": [
    {
      "cell_type": "markdown",
      "metadata": {
        "id": "view-in-github",
        "colab_type": "text"
      },
      "source": [
        "<a href=\"https://colab.research.google.com/github/blewis219/DS-Unit-2-Linear-Models/blob/master/module2-regression-2/BRADLY_LEWIS_LS_DS_212_assignment.ipynb\" target=\"_parent\"><img src=\"https://colab.research.google.com/assets/colab-badge.svg\" alt=\"Open In Colab\"/></a>"
      ]
    },
    {
      "cell_type": "markdown",
      "metadata": {
        "id": "_pomCPCe3Ptl"
      },
      "source": [
        "Lambda School Data Science\n",
        "\n",
        "*Unit 2, Sprint 1, Module 2*\n",
        "\n",
        "---"
      ]
    },
    {
      "cell_type": "markdown",
      "metadata": {
        "id": "7IXUfiQ2UKj6"
      },
      "source": [
        "# Regression 2\n",
        "\n",
        "## Assignment\n",
        "\n",
        "You'll continue to **predict how much it costs to rent an apartment in NYC,** using the dataset from renthop.com.\n",
        "\n",
        "- [ ] Do train/test split. Use data from April & May 2016 to train. Use data from June 2016 to test.\n",
        "- [ ] Engineer at least two new features. (See below for explanation & ideas.)\n",
        "- [ ] Fit a linear regression model with at least two features.\n",
        "- [ ] Get the model's coefficients and intercept.\n",
        "- [ ] Get regression metrics RMSE, MAE, and $R^2$, for both the train and test data.\n",
        "- [ ] What's the best test MAE you can get? Share your score and features used with your cohort on Slack!\n",
        "- [ ] As always, commit your notebook to your fork of the GitHub repo.\n",
        "\n",
        "\n",
        "#### [Feature Engineering](https://en.wikipedia.org/wiki/Feature_engineering)\n",
        "\n",
        "> \"Some machine learning projects succeed and some fail. What makes the difference? Easily the most important factor is the features used.\" — Pedro Domingos, [\"A Few Useful Things to Know about Machine Learning\"](https://homes.cs.washington.edu/~pedrod/papers/cacm12.pdf)\n",
        "\n",
        "> \"Coming up with features is difficult, time-consuming, requires expert knowledge. 'Applied machine learning' is basically feature engineering.\" — Andrew Ng, [Machine Learning and AI via Brain simulations](https://forum.stanford.edu/events/2011/2011slides/plenary/2011plenaryNg.pdf) \n",
        "\n",
        "> Feature engineering is the process of using domain knowledge of the data to create features that make machine learning algorithms work. \n",
        "\n",
        "#### Feature Ideas\n",
        "- Does the apartment have a description?\n",
        "- How long is the description?\n",
        "- How many total perks does each apartment have?\n",
        "- Are cats _or_ dogs allowed?\n",
        "- Are cats _and_ dogs allowed?\n",
        "- Total number of rooms (beds + baths)\n",
        "- Ratio of beds to baths\n",
        "- What's the neighborhood, based on address or latitude & longitude?\n",
        "\n",
        "## Stretch Goals\n",
        "- [ ] If you want more math, skim [_An Introduction to Statistical Learning_](http://faculty.marshall.usc.edu/gareth-james/ISL/ISLR%20Seventh%20Printing.pdf),  Chapter 3.1, Simple Linear Regression, & Chapter 3.2, Multiple Linear Regression\n",
        "- [ ] If you want more introduction, watch [Brandon Foltz, Statistics 101: Simple Linear Regression](https://www.youtube.com/watch?v=ZkjP5RJLQF4)\n",
        "(20 minutes, over 1 million views)\n",
        "- [ ] Add your own stretch goal(s) !"
      ]
    },
    {
      "cell_type": "code",
      "metadata": {
        "id": "o9eSnDYhUGD7"
      },
      "source": [
        "%%capture\n",
        "import sys\n",
        "\n",
        "# If you're on Colab:\n",
        "if 'google.colab' in sys.modules:\n",
        "    DATA_PATH = 'https://raw.githubusercontent.com/LambdaSchool/DS-Unit-2-Applied-Modeling/master/data/'\n",
        "    !pip install category_encoders==2.*\n",
        "\n",
        "# If you're working locally:\n",
        "else:\n",
        "    DATA_PATH = '../data/'\n",
        "    \n",
        "# Ignore this Numpy warning when using Plotly Express:\n",
        "# FutureWarning: Method .ptp is deprecated and will be removed in a future version. Use numpy.ptp instead.\n",
        "import warnings\n",
        "warnings.filterwarnings(action='ignore', category=FutureWarning, module='numpy')"
      ],
      "execution_count": 190,
      "outputs": []
    },
    {
      "cell_type": "code",
      "metadata": {
        "id": "cvrw-T3bZOuW"
      },
      "source": [
        "import numpy as np\n",
        "import pandas as pd\n",
        "from sklearn.metrics import mean_absolute_error\n",
        "\n",
        "# Read New York City apartment rental listing data\n",
        "df = pd.read_csv(DATA_PATH+'apartments/renthop-nyc.csv')\n",
        "assert df.shape == (49352, 34)\n",
        "\n",
        "# Remove the most extreme 1% prices,\n",
        "# the most extreme .1% latitudes, &\n",
        "# the most extreme .1% longitudes\n",
        "df = df[(df['price'] >= np.percentile(df['price'], 0.5)) & \n",
        "        (df['price'] <= np.percentile(df['price'], 99.5)) & \n",
        "        (df['latitude'] >= np.percentile(df['latitude'], 0.05)) & \n",
        "        (df['latitude'] < np.percentile(df['latitude'], 99.95)) &\n",
        "        (df['longitude'] >= np.percentile(df['longitude'], 0.05)) & \n",
        "        (df['longitude'] <= np.percentile(df['longitude'], 99.95))]"
      ],
      "execution_count": 191,
      "outputs": []
    },
    {
      "cell_type": "markdown",
      "metadata": {
        "id": "ws4MLhxolqaG"
      },
      "source": [
        "# Let's start by getting some general information from our dataframe."
      ]
    },
    {
      "cell_type": "code",
      "metadata": {
        "colab": {
          "base_uri": "https://localhost:8080/",
          "height": 530
        },
        "id": "xndMrVY3tYbV",
        "outputId": "b3a21fde-9999-457c-c1af-2095e0729c2a"
      },
      "source": [
        "print(df.shape)\r\n",
        "df.head()"
      ],
      "execution_count": 192,
      "outputs": [
        {
          "output_type": "stream",
          "text": [
            "(48817, 34)\n"
          ],
          "name": "stdout"
        },
        {
          "output_type": "execute_result",
          "data": {
            "text/html": [
              "<div>\n",
              "<style scoped>\n",
              "    .dataframe tbody tr th:only-of-type {\n",
              "        vertical-align: middle;\n",
              "    }\n",
              "\n",
              "    .dataframe tbody tr th {\n",
              "        vertical-align: top;\n",
              "    }\n",
              "\n",
              "    .dataframe thead th {\n",
              "        text-align: right;\n",
              "    }\n",
              "</style>\n",
              "<table border=\"1\" class=\"dataframe\">\n",
              "  <thead>\n",
              "    <tr style=\"text-align: right;\">\n",
              "      <th></th>\n",
              "      <th>bathrooms</th>\n",
              "      <th>bedrooms</th>\n",
              "      <th>created</th>\n",
              "      <th>description</th>\n",
              "      <th>display_address</th>\n",
              "      <th>latitude</th>\n",
              "      <th>longitude</th>\n",
              "      <th>price</th>\n",
              "      <th>street_address</th>\n",
              "      <th>interest_level</th>\n",
              "      <th>elevator</th>\n",
              "      <th>cats_allowed</th>\n",
              "      <th>hardwood_floors</th>\n",
              "      <th>dogs_allowed</th>\n",
              "      <th>doorman</th>\n",
              "      <th>dishwasher</th>\n",
              "      <th>no_fee</th>\n",
              "      <th>laundry_in_building</th>\n",
              "      <th>fitness_center</th>\n",
              "      <th>pre-war</th>\n",
              "      <th>laundry_in_unit</th>\n",
              "      <th>roof_deck</th>\n",
              "      <th>outdoor_space</th>\n",
              "      <th>dining_room</th>\n",
              "      <th>high_speed_internet</th>\n",
              "      <th>balcony</th>\n",
              "      <th>swimming_pool</th>\n",
              "      <th>new_construction</th>\n",
              "      <th>terrace</th>\n",
              "      <th>exclusive</th>\n",
              "      <th>loft</th>\n",
              "      <th>garden_patio</th>\n",
              "      <th>wheelchair_access</th>\n",
              "      <th>common_outdoor_space</th>\n",
              "    </tr>\n",
              "  </thead>\n",
              "  <tbody>\n",
              "    <tr>\n",
              "      <th>0</th>\n",
              "      <td>1.5</td>\n",
              "      <td>3</td>\n",
              "      <td>2016-06-24 07:54:24</td>\n",
              "      <td>A Brand New 3 Bedroom 1.5 bath ApartmentEnjoy ...</td>\n",
              "      <td>Metropolitan Avenue</td>\n",
              "      <td>40.7145</td>\n",
              "      <td>-73.9425</td>\n",
              "      <td>3000</td>\n",
              "      <td>792 Metropolitan Avenue</td>\n",
              "      <td>medium</td>\n",
              "      <td>0</td>\n",
              "      <td>0</td>\n",
              "      <td>0</td>\n",
              "      <td>0</td>\n",
              "      <td>0</td>\n",
              "      <td>0</td>\n",
              "      <td>0</td>\n",
              "      <td>0</td>\n",
              "      <td>0</td>\n",
              "      <td>0</td>\n",
              "      <td>0</td>\n",
              "      <td>0</td>\n",
              "      <td>0</td>\n",
              "      <td>0</td>\n",
              "      <td>0</td>\n",
              "      <td>0</td>\n",
              "      <td>0</td>\n",
              "      <td>0</td>\n",
              "      <td>0</td>\n",
              "      <td>0</td>\n",
              "      <td>0</td>\n",
              "      <td>0</td>\n",
              "      <td>0</td>\n",
              "      <td>0</td>\n",
              "    </tr>\n",
              "    <tr>\n",
              "      <th>1</th>\n",
              "      <td>1.0</td>\n",
              "      <td>2</td>\n",
              "      <td>2016-06-12 12:19:27</td>\n",
              "      <td></td>\n",
              "      <td>Columbus Avenue</td>\n",
              "      <td>40.7947</td>\n",
              "      <td>-73.9667</td>\n",
              "      <td>5465</td>\n",
              "      <td>808 Columbus Avenue</td>\n",
              "      <td>low</td>\n",
              "      <td>1</td>\n",
              "      <td>1</td>\n",
              "      <td>0</td>\n",
              "      <td>1</td>\n",
              "      <td>1</td>\n",
              "      <td>0</td>\n",
              "      <td>0</td>\n",
              "      <td>0</td>\n",
              "      <td>1</td>\n",
              "      <td>0</td>\n",
              "      <td>0</td>\n",
              "      <td>0</td>\n",
              "      <td>0</td>\n",
              "      <td>0</td>\n",
              "      <td>0</td>\n",
              "      <td>0</td>\n",
              "      <td>0</td>\n",
              "      <td>0</td>\n",
              "      <td>0</td>\n",
              "      <td>0</td>\n",
              "      <td>0</td>\n",
              "      <td>0</td>\n",
              "      <td>0</td>\n",
              "      <td>0</td>\n",
              "    </tr>\n",
              "    <tr>\n",
              "      <th>2</th>\n",
              "      <td>1.0</td>\n",
              "      <td>1</td>\n",
              "      <td>2016-04-17 03:26:41</td>\n",
              "      <td>Top Top West Village location, beautiful Pre-w...</td>\n",
              "      <td>W 13 Street</td>\n",
              "      <td>40.7388</td>\n",
              "      <td>-74.0018</td>\n",
              "      <td>2850</td>\n",
              "      <td>241 W 13 Street</td>\n",
              "      <td>high</td>\n",
              "      <td>0</td>\n",
              "      <td>0</td>\n",
              "      <td>1</td>\n",
              "      <td>0</td>\n",
              "      <td>0</td>\n",
              "      <td>1</td>\n",
              "      <td>0</td>\n",
              "      <td>1</td>\n",
              "      <td>0</td>\n",
              "      <td>0</td>\n",
              "      <td>0</td>\n",
              "      <td>0</td>\n",
              "      <td>0</td>\n",
              "      <td>0</td>\n",
              "      <td>0</td>\n",
              "      <td>0</td>\n",
              "      <td>0</td>\n",
              "      <td>0</td>\n",
              "      <td>0</td>\n",
              "      <td>0</td>\n",
              "      <td>0</td>\n",
              "      <td>0</td>\n",
              "      <td>0</td>\n",
              "      <td>0</td>\n",
              "    </tr>\n",
              "    <tr>\n",
              "      <th>3</th>\n",
              "      <td>1.0</td>\n",
              "      <td>1</td>\n",
              "      <td>2016-04-18 02:22:02</td>\n",
              "      <td>Building Amenities - Garage - Garden - fitness...</td>\n",
              "      <td>East 49th Street</td>\n",
              "      <td>40.7539</td>\n",
              "      <td>-73.9677</td>\n",
              "      <td>3275</td>\n",
              "      <td>333 East 49th Street</td>\n",
              "      <td>low</td>\n",
              "      <td>0</td>\n",
              "      <td>0</td>\n",
              "      <td>1</td>\n",
              "      <td>0</td>\n",
              "      <td>0</td>\n",
              "      <td>0</td>\n",
              "      <td>1</td>\n",
              "      <td>0</td>\n",
              "      <td>0</td>\n",
              "      <td>0</td>\n",
              "      <td>0</td>\n",
              "      <td>0</td>\n",
              "      <td>0</td>\n",
              "      <td>0</td>\n",
              "      <td>0</td>\n",
              "      <td>0</td>\n",
              "      <td>0</td>\n",
              "      <td>0</td>\n",
              "      <td>0</td>\n",
              "      <td>0</td>\n",
              "      <td>0</td>\n",
              "      <td>0</td>\n",
              "      <td>0</td>\n",
              "      <td>0</td>\n",
              "    </tr>\n",
              "    <tr>\n",
              "      <th>4</th>\n",
              "      <td>1.0</td>\n",
              "      <td>4</td>\n",
              "      <td>2016-04-28 01:32:41</td>\n",
              "      <td>Beautifully renovated 3 bedroom flex 4 bedroom...</td>\n",
              "      <td>West 143rd Street</td>\n",
              "      <td>40.8241</td>\n",
              "      <td>-73.9493</td>\n",
              "      <td>3350</td>\n",
              "      <td>500 West 143rd Street</td>\n",
              "      <td>low</td>\n",
              "      <td>0</td>\n",
              "      <td>0</td>\n",
              "      <td>0</td>\n",
              "      <td>0</td>\n",
              "      <td>0</td>\n",
              "      <td>0</td>\n",
              "      <td>0</td>\n",
              "      <td>0</td>\n",
              "      <td>0</td>\n",
              "      <td>1</td>\n",
              "      <td>0</td>\n",
              "      <td>0</td>\n",
              "      <td>0</td>\n",
              "      <td>0</td>\n",
              "      <td>0</td>\n",
              "      <td>0</td>\n",
              "      <td>0</td>\n",
              "      <td>0</td>\n",
              "      <td>0</td>\n",
              "      <td>0</td>\n",
              "      <td>0</td>\n",
              "      <td>0</td>\n",
              "      <td>0</td>\n",
              "      <td>0</td>\n",
              "    </tr>\n",
              "  </tbody>\n",
              "</table>\n",
              "</div>"
            ],
            "text/plain": [
              "   bathrooms  bedrooms  ... wheelchair_access common_outdoor_space\n",
              "0        1.5         3  ...                 0                    0\n",
              "1        1.0         2  ...                 0                    0\n",
              "2        1.0         1  ...                 0                    0\n",
              "3        1.0         1  ...                 0                    0\n",
              "4        1.0         4  ...                 0                    0\n",
              "\n",
              "[5 rows x 34 columns]"
            ]
          },
          "metadata": {
            "tags": []
          },
          "execution_count": 192
        }
      ]
    },
    {
      "cell_type": "code",
      "metadata": {
        "colab": {
          "base_uri": "https://localhost:8080/"
        },
        "id": "YGCbyi4StebP",
        "outputId": "bc0ba724-4e42-480b-c607-880d20a4b6a8"
      },
      "source": [
        "# List the columns alphabetically\r\n",
        "list(df.columns.sort_values().values)"
      ],
      "execution_count": 193,
      "outputs": [
        {
          "output_type": "execute_result",
          "data": {
            "text/plain": [
              "['balcony',\n",
              " 'bathrooms',\n",
              " 'bedrooms',\n",
              " 'cats_allowed',\n",
              " 'common_outdoor_space',\n",
              " 'created',\n",
              " 'description',\n",
              " 'dining_room',\n",
              " 'dishwasher',\n",
              " 'display_address',\n",
              " 'dogs_allowed',\n",
              " 'doorman',\n",
              " 'elevator',\n",
              " 'exclusive',\n",
              " 'fitness_center',\n",
              " 'garden_patio',\n",
              " 'hardwood_floors',\n",
              " 'high_speed_internet',\n",
              " 'interest_level',\n",
              " 'latitude',\n",
              " 'laundry_in_building',\n",
              " 'laundry_in_unit',\n",
              " 'loft',\n",
              " 'longitude',\n",
              " 'new_construction',\n",
              " 'no_fee',\n",
              " 'outdoor_space',\n",
              " 'pre-war',\n",
              " 'price',\n",
              " 'roof_deck',\n",
              " 'street_address',\n",
              " 'swimming_pool',\n",
              " 'terrace',\n",
              " 'wheelchair_access']"
            ]
          },
          "metadata": {
            "tags": []
          },
          "execution_count": 193
        }
      ]
    },
    {
      "cell_type": "code",
      "metadata": {
        "colab": {
          "base_uri": "https://localhost:8080/"
        },
        "id": "lKuO4b-Bt6RW",
        "outputId": "6b6b0bac-e810-46e5-cb9e-498526e09cd3"
      },
      "source": [
        "df.info()"
      ],
      "execution_count": 194,
      "outputs": [
        {
          "output_type": "stream",
          "text": [
            "<class 'pandas.core.frame.DataFrame'>\n",
            "Int64Index: 48817 entries, 0 to 49351\n",
            "Data columns (total 34 columns):\n",
            " #   Column                Non-Null Count  Dtype  \n",
            "---  ------                --------------  -----  \n",
            " 0   bathrooms             48817 non-null  float64\n",
            " 1   bedrooms              48817 non-null  int64  \n",
            " 2   created               48817 non-null  object \n",
            " 3   description           47392 non-null  object \n",
            " 4   display_address       48684 non-null  object \n",
            " 5   latitude              48817 non-null  float64\n",
            " 6   longitude             48817 non-null  float64\n",
            " 7   price                 48817 non-null  int64  \n",
            " 8   street_address        48807 non-null  object \n",
            " 9   interest_level        48817 non-null  object \n",
            " 10  elevator              48817 non-null  int64  \n",
            " 11  cats_allowed          48817 non-null  int64  \n",
            " 12  hardwood_floors       48817 non-null  int64  \n",
            " 13  dogs_allowed          48817 non-null  int64  \n",
            " 14  doorman               48817 non-null  int64  \n",
            " 15  dishwasher            48817 non-null  int64  \n",
            " 16  no_fee                48817 non-null  int64  \n",
            " 17  laundry_in_building   48817 non-null  int64  \n",
            " 18  fitness_center        48817 non-null  int64  \n",
            " 19  pre-war               48817 non-null  int64  \n",
            " 20  laundry_in_unit       48817 non-null  int64  \n",
            " 21  roof_deck             48817 non-null  int64  \n",
            " 22  outdoor_space         48817 non-null  int64  \n",
            " 23  dining_room           48817 non-null  int64  \n",
            " 24  high_speed_internet   48817 non-null  int64  \n",
            " 25  balcony               48817 non-null  int64  \n",
            " 26  swimming_pool         48817 non-null  int64  \n",
            " 27  new_construction      48817 non-null  int64  \n",
            " 28  terrace               48817 non-null  int64  \n",
            " 29  exclusive             48817 non-null  int64  \n",
            " 30  loft                  48817 non-null  int64  \n",
            " 31  garden_patio          48817 non-null  int64  \n",
            " 32  wheelchair_access     48817 non-null  int64  \n",
            " 33  common_outdoor_space  48817 non-null  int64  \n",
            "dtypes: float64(3), int64(26), object(5)\n",
            "memory usage: 13.0+ MB\n"
          ],
          "name": "stdout"
        }
      ]
    },
    {
      "cell_type": "markdown",
      "metadata": {
        "id": "WUA6C_FV74u4"
      },
      "source": [
        "# We are going to start by **engineering some features.**\r\n"
      ]
    },
    {
      "cell_type": "code",
      "metadata": {
        "id": "qgRWdvi32sn9"
      },
      "source": [
        "# Engineer a feature for perks\r\n",
        "df['perks'] = (\r\n",
        "    df.elevator +\r\n",
        "    df.hardwood_floors +\r\n",
        "    df.doorman +\r\n",
        "    df.dishwasher +\r\n",
        "    df.no_fee +\r\n",
        "    df['pre-war'] +\r\n",
        "    df.fitness_center +\r\n",
        "    df.laundry_in_building +\r\n",
        "    df.laundry_in_unit +\r\n",
        "    df.roof_deck +\r\n",
        "    df.outdoor_space +\r\n",
        "    df.dining_room +\r\n",
        "    df.high_speed_internet +\r\n",
        "    df.balcony +\r\n",
        "    df.swimming_pool +\r\n",
        "    df.new_construction +\r\n",
        "    df.terrace +\r\n",
        "    df.exclusive +\r\n",
        "    df.loft +\r\n",
        "    df.garden_patio +\r\n",
        "    df.wheelchair_access +\r\n",
        "    df.common_outdoor_space +\r\n",
        "    df.cats_allowed +\r\n",
        "    df.dogs_allowed\r\n",
        ")\r\n",
        "\r\n",
        "# Engineer a feauture for beds_baths_ratio\r\n",
        "df['beds_baths_ratio'] = (\r\n",
        "    df.bedrooms / df.bathrooms\r\n",
        ")\r\n",
        "\r\n",
        "# Engineer a feature for description_len\r\n",
        "df['description_len'] = df['description'].str.len()\r\n",
        "\r\n",
        "# Convert 'interest_level' to int values\r\n",
        "df.loc[(df['interest_level'] == \"low\"), 'interest_level'] = 1\r\n",
        "df.loc[(df['interest_level'] == \"medium\"), 'interest_level'] = 2\r\n",
        "df.loc[(df['interest_level'] == \"high\"), 'interest_level'] = 3"
      ],
      "execution_count": 195,
      "outputs": []
    },
    {
      "cell_type": "markdown",
      "metadata": {
        "id": "wGDPSwf08FYS"
      },
      "source": [
        "In the process of engineering some features, we created some Null values. This was due to the fact that some descriptions had missing data and 0/0 is Not a Real Number. We will replace them with '0' since they are still useable."
      ]
    },
    {
      "cell_type": "code",
      "metadata": {
        "id": "SumENGaP11PN"
      },
      "source": [
        "# Replace NaN values with 0\r\n",
        "df['beds_baths_ratio'] = df['beds_baths_ratio'].fillna(0)\r\n",
        "df['description_len'] = df['description_len'].fillna(0)\r\n",
        "\r\n",
        "df['beds_baths_ratio'] = df['beds_baths_ratio'].round(decimals=2)\r\n",
        "df = df.replace([np.inf],0)"
      ],
      "execution_count": 196,
      "outputs": []
    },
    {
      "cell_type": "code",
      "metadata": {
        "id": "C8HRSSTz4xUS"
      },
      "source": [
        "# Creating a subset of the columns we are interested in\r\n",
        "sub_df = df[['bathrooms', 'bedrooms', 'beds_baths_ratio', 'perks', 'description_len', 'interest_level', 'latitude', 'longitude', 'price', 'interest_level', 'cats_allowed', 'dogs_allowed']]"
      ],
      "execution_count": 197,
      "outputs": []
    },
    {
      "cell_type": "markdown",
      "metadata": {
        "id": "D6MrV0WYleYT"
      },
      "source": [
        "# Splitting the Data into training and testing groups."
      ]
    },
    {
      "cell_type": "code",
      "metadata": {
        "id": "S9A2tZudyeI3",
        "colab": {
          "base_uri": "https://localhost:8080/"
        },
        "outputId": "4b27acd5-8418-464e-96a6-197cf7b58ff9"
      },
      "source": [
        "# Convert 'created' to a DateTime format so we can separate the month\r\n",
        "sub_df['created'] = pd.to_datetime(df['created'])\r\n",
        "sub_df['month'] = pd.DatetimeIndex(df['created']).month\r\n",
        "\r\n",
        "# Divide the dataframe into Train and Test\r\n",
        "train = sub_df[(sub_df.month == 4) | (sub_df.month == 5)]\r\n",
        "test = sub_df[sub_df.month == 6]"
      ],
      "execution_count": 198,
      "outputs": [
        {
          "output_type": "stream",
          "text": [
            "/usr/local/lib/python3.6/dist-packages/ipykernel_launcher.py:2: SettingWithCopyWarning:\n",
            "\n",
            "\n",
            "A value is trying to be set on a copy of a slice from a DataFrame.\n",
            "Try using .loc[row_indexer,col_indexer] = value instead\n",
            "\n",
            "See the caveats in the documentation: https://pandas.pydata.org/pandas-docs/stable/user_guide/indexing.html#returning-a-view-versus-a-copy\n",
            "\n",
            "/usr/local/lib/python3.6/dist-packages/ipykernel_launcher.py:3: SettingWithCopyWarning:\n",
            "\n",
            "\n",
            "A value is trying to be set on a copy of a slice from a DataFrame.\n",
            "Try using .loc[row_indexer,col_indexer] = value instead\n",
            "\n",
            "See the caveats in the documentation: https://pandas.pydata.org/pandas-docs/stable/user_guide/indexing.html#returning-a-view-versus-a-copy\n",
            "\n"
          ],
          "name": "stderr"
        }
      ]
    },
    {
      "cell_type": "markdown",
      "metadata": {
        "id": "YlHsyxOElAsI"
      },
      "source": [
        "# **Linear Regression Model**\r\n",
        "We will make a few models to see what gives us the best results."
      ]
    },
    {
      "cell_type": "markdown",
      "metadata": {
        "id": "jxkOWqEzlQwA"
      },
      "source": [
        "# Model 1: Bedrooms & Bathrooms"
      ]
    },
    {
      "cell_type": "code",
      "metadata": {
        "colab": {
          "base_uri": "https://localhost:8080/"
        },
        "id": "r7CG6bjpyfQ3",
        "outputId": "f1417c21-01de-4aa5-ddc2-8423506f9bb2"
      },
      "source": [
        "# 1. Import the appropriate estimator class from Scikit-Learn\r\n",
        "from sklearn.linear_model import LinearRegression\r\n",
        "\r\n",
        "# 2. Instantiate this class\r\n",
        "model = LinearRegression()\r\n",
        "\r\n",
        "# 3. Arrange X features matrices and y target vectors\r\n",
        "features = ['bedrooms', 'bathrooms']\r\n",
        "target = 'price'\r\n",
        "\r\n",
        "X_train = train[features]\r\n",
        "X_test = test[features]\r\n",
        "\r\n",
        "y_train = train[target]\r\n",
        "y_test = test[target]\r\n",
        "\r\n",
        "# 4. Fit the model\r\n",
        "model.fit(X_train, y_train)\r\n",
        "y_pred = model.predict(X_train)\r\n",
        "mae = mean_absolute_error(y_train, y_pred)\r\n",
        "print(f'Train Error: ${mae:,.2f}')"
      ],
      "execution_count": 199,
      "outputs": [
        {
          "output_type": "stream",
          "text": [
            "Train Error: $818.53\n"
          ],
          "name": "stdout"
        }
      ]
    },
    {
      "cell_type": "code",
      "metadata": {
        "colab": {
          "base_uri": "https://localhost:8080/"
        },
        "id": "stuGOjIRyEX6",
        "outputId": "58555761-30c7-4ecd-dad1-46af94b31d2b"
      },
      "source": [
        "# 5. Apply the model to new data\r\n",
        "y_pred = model.predict(X_test)\r\n",
        "mae = mean_absolute_error(y_test, y_pred)\r\n",
        "print(f'Test Error: ${mae:,.2f}')"
      ],
      "execution_count": 200,
      "outputs": [
        {
          "output_type": "stream",
          "text": [
            "Test Error: $825.90\n"
          ],
          "name": "stdout"
        }
      ]
    },
    {
      "cell_type": "code",
      "metadata": {
        "colab": {
          "base_uri": "https://localhost:8080/"
        },
        "id": "ErCLmOrxzTMm",
        "outputId": "83974d07-c12b-4f8a-b1af-40b15d3d5102"
      },
      "source": [
        "# Model's coeficient and intercept\r\n",
        "coef1 = model.coef_[0]\r\n",
        "coef2 = model.coef_[1]\r\n",
        "intercept = model.intercept_\r\n",
        "print(f'The coeficients are {coef1:,.2f} and {coef2:,.2f}. The intercept is {intercept:,.2f}.')"
      ],
      "execution_count": 201,
      "outputs": [
        {
          "output_type": "stream",
          "text": [
            "The coeficients are 389.32 and 2,072.61. The intercept is 485.72.\n"
          ],
          "name": "stdout"
        }
      ]
    },
    {
      "cell_type": "code",
      "metadata": {
        "colab": {
          "base_uri": "https://localhost:8080/"
        },
        "id": "ZI8R9QrNz4P3",
        "outputId": "d7c0f03a-7029-479a-ea39-2c553f8684a5"
      },
      "source": [
        "# R^2 values for the training data and testing data\r\n",
        "r2_train = model.score(X_train, y_train)\r\n",
        "r2_test = model.score(X_test, y_test)\r\n",
        "\r\n",
        "print(f'The Training model R-squared value is {r2_train:,.2f}')\r\n",
        "print(f'The Testing model R-squared value is {r2_test:,.2f}')"
      ],
      "execution_count": 202,
      "outputs": [
        {
          "output_type": "stream",
          "text": [
            "The Training model R-squared value is 0.51\n",
            "The Testing model R-squared value is 0.52\n"
          ],
          "name": "stdout"
        }
      ]
    },
    {
      "cell_type": "markdown",
      "metadata": {
        "id": "XywiNaWVMtKq"
      },
      "source": [
        "**I did add in bed_bath_ratio but it caused my error to go up and r^2 to go down, so ultimately left it out.**"
      ]
    },
    {
      "cell_type": "markdown",
      "metadata": {
        "id": "58WyWw9kJq67"
      },
      "source": [
        "# Model 2: Bedrooms, Bathrooms, and Perks"
      ]
    },
    {
      "cell_type": "code",
      "metadata": {
        "colab": {
          "base_uri": "https://localhost:8080/"
        },
        "id": "6hG0cmpGJ6Qx",
        "outputId": "608d6d52-8443-4b61-be35-c29bb3a5eccc"
      },
      "source": [
        "# 1. Import the appropriate estimator class from Scikit-Learn\r\n",
        "from sklearn.linear_model import LinearRegression\r\n",
        "\r\n",
        "# 2. Instantiate this class\r\n",
        "model = LinearRegression()\r\n",
        "\r\n",
        "# 3. Arrange X features matrices and y target vectors\r\n",
        "features = ['bedrooms', 'bathrooms', 'perks']\r\n",
        "target = 'price'\r\n",
        "\r\n",
        "X_train = train[features]\r\n",
        "X_test = test[features]\r\n",
        "\r\n",
        "y_train = train[target]\r\n",
        "y_test = test[target]\r\n",
        "\r\n",
        "# 4. Fit the model\r\n",
        "model.fit(X_train, y_train)\r\n",
        "y_pred = model.predict(X_train)\r\n",
        "mae = mean_absolute_error(y_train, y_pred)\r\n",
        "print(f'Train Error: ${mae:,.2f}')"
      ],
      "execution_count": 203,
      "outputs": [
        {
          "output_type": "stream",
          "text": [
            "Train Error: $795.41\n"
          ],
          "name": "stdout"
        }
      ]
    },
    {
      "cell_type": "code",
      "metadata": {
        "colab": {
          "base_uri": "https://localhost:8080/"
        },
        "id": "26s4lj6SJ-WE",
        "outputId": "de009582-e5a0-4246-b942-68b3774f772c"
      },
      "source": [
        "# 5. Apply the model to new data\r\n",
        "y_pred = model.predict(X_test)\r\n",
        "mae = mean_absolute_error(y_test, y_pred)\r\n",
        "print(f'Test Error: ${mae:,.2f}')"
      ],
      "execution_count": 204,
      "outputs": [
        {
          "output_type": "stream",
          "text": [
            "Test Error: $799.74\n"
          ],
          "name": "stdout"
        }
      ]
    },
    {
      "cell_type": "code",
      "metadata": {
        "colab": {
          "base_uri": "https://localhost:8080/"
        },
        "id": "3cERNNw8KFFy",
        "outputId": "a33200ce-934b-4582-ce47-7f5b54ea35ce"
      },
      "source": [
        "# Model's coeficient and intercept\r\n",
        "coef1 = model.coef_[0]\r\n",
        "coef2 = model.coef_[1]\r\n",
        "coef3 = model.coef_[2]\r\n",
        "\r\n",
        "intercept = model.intercept_\r\n",
        "print(f'The coeficients are {coef1:,.2f}, {coef2:,.2f} and {coef3:,.2f}. The intercept is {intercept:,.2f}.')"
      ],
      "execution_count": 205,
      "outputs": [
        {
          "output_type": "stream",
          "text": [
            "The coeficients are 391.99, 1,936.28 and 78.17. The intercept is 277.61.\n"
          ],
          "name": "stdout"
        }
      ]
    },
    {
      "cell_type": "code",
      "metadata": {
        "colab": {
          "base_uri": "https://localhost:8080/"
        },
        "id": "omfcNdFCL6CM",
        "outputId": "664afc0b-447d-4109-b919-98c47ba34be8"
      },
      "source": [
        "# R^2 values for the training data and testing data\r\n",
        "r2_train = model.score(X_train, y_train)\r\n",
        "r2_test = model.score(X_test, y_test)\r\n",
        "\r\n",
        "print(f'The Training model R-squared value is {r2_train:,.2f}')\r\n",
        "print(f'The Testing model R-squared value is {r2_test:,.2f}')"
      ],
      "execution_count": 206,
      "outputs": [
        {
          "output_type": "stream",
          "text": [
            "The Training model R-squared value is 0.53\n",
            "The Testing model R-squared value is 0.54\n"
          ],
          "name": "stdout"
        }
      ]
    },
    {
      "cell_type": "markdown",
      "metadata": {
        "id": "d6vVdcMqLx78"
      },
      "source": [
        "# Model 3: Bedrooms, Bathrooms, Perks, and Description Len"
      ]
    },
    {
      "cell_type": "code",
      "metadata": {
        "colab": {
          "base_uri": "https://localhost:8080/"
        },
        "id": "c-C8vVsmL1gw",
        "outputId": "ff2a7bb8-85ef-49a2-c998-0ca63681889f"
      },
      "source": [
        "# 1. Import the appropriate estimator class from Scikit-Learn\r\n",
        "from sklearn.linear_model import LinearRegression\r\n",
        "\r\n",
        "# 2. Instantiate this class\r\n",
        "model = LinearRegression()\r\n",
        "\r\n",
        "# 3. Arrange X features matrices and y target vectors\r\n",
        "features = ['bedrooms', 'bathrooms', 'perks', 'description_len']\r\n",
        "target = 'price'\r\n",
        "\r\n",
        "X_train = train[features]\r\n",
        "X_test = test[features]\r\n",
        "\r\n",
        "y_train = train[target]\r\n",
        "y_test = test[target]\r\n",
        "\r\n",
        "# 4. Fit the model\r\n",
        "model.fit(X_train, y_train)\r\n",
        "y_pred = model.predict(X_train)\r\n",
        "mae = mean_absolute_error(y_train, y_pred)\r\n",
        "print(f'Train Error: ${mae:,.2f}')"
      ],
      "execution_count": 207,
      "outputs": [
        {
          "output_type": "stream",
          "text": [
            "Train Error: $795.39\n"
          ],
          "name": "stdout"
        }
      ]
    },
    {
      "cell_type": "code",
      "metadata": {
        "colab": {
          "base_uri": "https://localhost:8080/"
        },
        "id": "j0QUc7xnL1gx",
        "outputId": "f6cd2f6a-ca6a-4f40-c3d8-c554753bfba5"
      },
      "source": [
        "# 5. Apply the model to new data\r\n",
        "y_pred = model.predict(X_test)\r\n",
        "mae = mean_absolute_error(y_test, y_pred)\r\n",
        "print(f'Test Error: ${mae:,.2f}')"
      ],
      "execution_count": 208,
      "outputs": [
        {
          "output_type": "stream",
          "text": [
            "Test Error: $799.72\n"
          ],
          "name": "stdout"
        }
      ]
    },
    {
      "cell_type": "code",
      "metadata": {
        "colab": {
          "base_uri": "https://localhost:8080/"
        },
        "id": "bPPpudgSL1gx",
        "outputId": "f69c0dbb-3c83-4aaa-c18b-17974bb14c1e"
      },
      "source": [
        "# Model's coeficient and intercept\r\n",
        "coef1 = model.coef_[0]\r\n",
        "coef2 = model.coef_[1]\r\n",
        "coef3 = model.coef_[2]\r\n",
        "coef4 = model.coef_[3]\r\n",
        "\r\n",
        "intercept = model.intercept_\r\n",
        "print(f'The coeficients are {coef1:,.2f}, {coef2:,.2f}, {coef3:,.2f} and {coef4:,.2f}. The intercept is {intercept:,.2f}.')"
      ],
      "execution_count": 209,
      "outputs": [
        {
          "output_type": "stream",
          "text": [
            "The coeficients are 392.08, 1,936.35, 78.44 and -0.01. The intercept is 279.62.\n"
          ],
          "name": "stdout"
        }
      ]
    },
    {
      "cell_type": "code",
      "metadata": {
        "colab": {
          "base_uri": "https://localhost:8080/"
        },
        "id": "XMX5RaFnL_44",
        "outputId": "05d1d3e1-9edc-4af7-f951-6713b561110c"
      },
      "source": [
        "# R^2 values for the training data and testing data\r\n",
        "r2_train = model.score(X_train, y_train)\r\n",
        "r2_test = model.score(X_test, y_test)\r\n",
        "\r\n",
        "print(f'The Training model R-squared value is {r2_train:,.2f}')\r\n",
        "print(f'The Testing model R-squared value is {r2_test:,.2f}')"
      ],
      "execution_count": 210,
      "outputs": [
        {
          "output_type": "stream",
          "text": [
            "The Training model R-squared value is 0.53\n",
            "The Testing model R-squared value is 0.54\n"
          ],
          "name": "stdout"
        }
      ]
    },
    {
      "cell_type": "markdown",
      "metadata": {
        "id": "_e3ylk81NJPn"
      },
      "source": [
        "# Model 4: Bedrooms, Bathrooms, Perks, Description_Len, Lat, long, and Interest_Level"
      ]
    },
    {
      "cell_type": "code",
      "metadata": {
        "colab": {
          "base_uri": "https://localhost:8080/"
        },
        "id": "GCu2iI7INJPn",
        "outputId": "74a726aa-7501-4160-8762-bf4f0155b642"
      },
      "source": [
        "# 1. Import the appropriate estimator class from Scikit-Learn\r\n",
        "from sklearn.linear_model import LinearRegression\r\n",
        "\r\n",
        "# 2. Instantiate this class\r\n",
        "model = LinearRegression()\r\n",
        "\r\n",
        "# 3. Arrange X features matrices and y target vectors\r\n",
        "features = ['bedrooms', 'bathrooms', 'perks', 'description_len', 'latitude', 'longitude', 'interest_level']\r\n",
        "target = 'price'\r\n",
        "\r\n",
        "X_train = train[features]\r\n",
        "X_test = test[features]\r\n",
        "\r\n",
        "y_train = train[target]\r\n",
        "y_test = test[target]\r\n",
        "\r\n",
        "# 4. Fit the model\r\n",
        "model.fit(X_train, y_train)\r\n",
        "y_pred = model.predict(X_train)\r\n",
        "mae = mean_absolute_error(y_train, y_pred)\r\n",
        "print(f'Train Error: ${mae:,.2f}')"
      ],
      "execution_count": 211,
      "outputs": [
        {
          "output_type": "stream",
          "text": [
            "Train Error: $700.53\n"
          ],
          "name": "stdout"
        }
      ]
    },
    {
      "cell_type": "code",
      "metadata": {
        "colab": {
          "base_uri": "https://localhost:8080/"
        },
        "id": "GYX4rbfRNJPo",
        "outputId": "a2b56f8c-3181-4959-b4b2-3d20c67df1f2"
      },
      "source": [
        "# 5. Apply the model to new data\r\n",
        "y_pred = model.predict(X_test)\r\n",
        "mae = mean_absolute_error(y_test, y_pred)\r\n",
        "print(f'Test Error: ${mae:,.2f}')"
      ],
      "execution_count": 212,
      "outputs": [
        {
          "output_type": "stream",
          "text": [
            "Test Error: $701.73\n"
          ],
          "name": "stdout"
        }
      ]
    },
    {
      "cell_type": "code",
      "metadata": {
        "colab": {
          "base_uri": "https://localhost:8080/"
        },
        "id": "RNP8yBppNJPo",
        "outputId": "1a32183d-0284-4b2e-971b-98c760113f99"
      },
      "source": [
        "# Model's coeficient and intercept\r\n",
        "coef1 = model.coef_[0]\r\n",
        "coef2 = model.coef_[1]\r\n",
        "coef3 = model.coef_[2]\r\n",
        "coef4 = model.coef_[3]\r\n",
        "coef5 = model.coef_[4]\r\n",
        "coef6 = model.coef_[5]\r\n",
        "coef7 = model.coef_[6]\r\n",
        "intercept = model.intercept_\r\n",
        "print(f'The coeficients are {coef1:,.2f}, {coef2:,.2f}, {coef3:,.2f}, {coef4:,.2f}, {coef5:,.2f}, {coef6:,.2f} and {coef7:,.2f}. The intercept is {intercept:,.2f}.')"
      ],
      "execution_count": 213,
      "outputs": [
        {
          "output_type": "stream",
          "text": [
            "The coeficients are 451.87, 1,839.25, 51.21, 0.05, 1,372.63, -14,047.04 and -236.01. The intercept is -1,093,980.50.\n"
          ],
          "name": "stdout"
        }
      ]
    },
    {
      "cell_type": "code",
      "metadata": {
        "colab": {
          "base_uri": "https://localhost:8080/"
        },
        "id": "YV002hRDNJPo",
        "outputId": "97d23a8a-4004-480d-e87c-4494c3526a1e"
      },
      "source": [
        "# R^2 values for the training data and testing data\r\n",
        "r2_train = model.score(X_train, y_train)\r\n",
        "r2_test = model.score(X_test, y_test)\r\n",
        "\r\n",
        "print(f'The Training model R-squared value is {r2_train:,.2f}')\r\n",
        "print(f'The Testing model R-squared value is {r2_test:,.2f}')"
      ],
      "execution_count": 214,
      "outputs": [
        {
          "output_type": "stream",
          "text": [
            "The Training model R-squared value is 0.61\n",
            "The Testing model R-squared value is 0.62\n"
          ],
          "name": "stdout"
        }
      ]
    },
    {
      "cell_type": "markdown",
      "metadata": {
        "id": "znEUNfTVO9Dl"
      },
      "source": [
        "---"
      ]
    },
    {
      "cell_type": "markdown",
      "metadata": {
        "id": "Rf9Mv6noPJtN"
      },
      "source": [
        "# Results:\r\n",
        "\r\n",
        "\r\n",
        "*   We tried using the model on 4 different sets of features\r\n",
        "*   The features that worked the best are **Bedrooms, Bathrooms, Perks, Description_Len, Lat, long, and Interest_Level**\r\n",
        "*   Our MAE is Train: 700.53 | Test: 701.73\r\n",
        "*   The R-squared values are Train: 0.61 | Test: 0.62\r\n",
        "\r\n",
        "\r\n",
        "\r\n"
      ]
    }
  ]
}